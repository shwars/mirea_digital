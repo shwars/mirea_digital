{
 "cells": [
  {
   "cell_type": "code",
   "execution_count": 58,
   "metadata": {},
   "outputs": [
    {
     "data": {
      "text/plain": [
       "40262"
      ]
     },
     "execution_count": 58,
     "metadata": {},
     "output_type": "execute_result"
    }
   ],
   "source": [
    "book = spark.read.text('d:/data/books/akar_en.txt')\n",
    "book.count()"
   ]
  },
  {
   "cell_type": "code",
   "execution_count": 39,
   "metadata": {},
   "outputs": [
    {
     "data": {
      "text/plain": [
       "Row(value='')"
      ]
     },
     "execution_count": 39,
     "metadata": {},
     "output_type": "execute_result"
    }
   ],
   "source": [
    "book.first()"
   ]
  },
  {
   "cell_type": "code",
   "execution_count": 38,
   "metadata": {},
   "outputs": [
    {
     "name": "stdout",
     "output_type": "stream",
     "text": [
      "+--------------------+\n",
      "|               value|\n",
      "+--------------------+\n",
      "|The Project Guten...|\n",
      "|This eBook is for...|\n",
      "|almost no restric...|\n",
      "|re-use it under t...|\n",
      "|with this eBook o...|\n",
      "|Title: Anna Karenina|\n",
      "| Author: Leo Tolstoy|\n",
      "|Release Date: Jul...|\n",
      "|Last Updated: Jul...|\n",
      "|   Language: English|\n",
      "|Character set enc...|\n",
      "|*** START OF THIS...|\n",
      "|Produced by David...|\n",
      "|      ANNA KARENINA |\n",
      "|     by Leo Tolstoy |\n",
      "| Translated by Co...|\n",
      "|            Contents|\n",
      "|            PART ONE|\n",
      "|            PART TWO|\n",
      "|          PART THREE|\n",
      "+--------------------+\n",
      "only showing top 20 rows\n",
      "\n"
     ]
    }
   ],
   "source": [
    "book.filter(\"value>''\").show()"
   ]
  },
  {
   "cell_type": "code",
   "execution_count": 61,
   "metadata": {},
   "outputs": [
    {
     "name": "stdout",
     "output_type": "stream",
     "text": [
      "+--------------------+-----+\n",
      "|               value|count|\n",
      "+--------------------+-----+\n",
      "|                    |    1|\n",
      "|The Project Guten...|   10|\n",
      "|                    |    1|\n",
      "|This eBook is for...|   14|\n",
      "|almost no restric...|   13|\n",
      "|re-use it under t...|   11|\n",
      "|with this eBook o...|    7|\n",
      "|                    |    1|\n",
      "|                    |    1|\n",
      "|Title: Anna Karenina|    3|\n",
      "|                    |    1|\n",
      "| Author: Leo Tolstoy|    3|\n",
      "|                    |    1|\n",
      "|Release Date: Jul...|    7|\n",
      "|Last Updated: Jul...|    5|\n",
      "|                    |    1|\n",
      "|   Language: English|    2|\n",
      "|                    |    1|\n",
      "|Character set enc...|    4|\n",
      "|                    |    1|\n",
      "+--------------------+-----+\n",
      "only showing top 20 rows\n",
      "\n"
     ]
    }
   ],
   "source": [
    "import pyspark.sql.functions as f \n",
    "\n",
    "book.withColumn('count', f.size(f.split(f.col('value'), ' '))).show()"
   ]
  },
  {
   "cell_type": "code",
   "execution_count": 65,
   "metadata": {},
   "outputs": [
    {
     "data": {
      "text/plain": [
       "[Row(sum(count)=361014)]"
      ]
     },
     "execution_count": 65,
     "metadata": {},
     "output_type": "execute_result"
    }
   ],
   "source": [
    "book.withColumn('count', f.size(f.split(f.col('value'), ' '))).select(f.sum('count')).collect()"
   ]
  },
  {
   "cell_type": "code",
   "execution_count": 70,
   "metadata": {},
   "outputs": [
    {
     "name": "stdout",
     "output_type": "stream",
     "text": [
      "+----+-----+\n",
      "|word|count|\n",
      "+----+-----+\n",
      "| the|16503|\n",
      "| and|11612|\n",
      "|  to| 9990|\n",
      "|  of| 8600|\n",
      "|    | 8171|\n",
      "|  he| 6147|\n",
      "|   a| 5990|\n",
      "|  in| 5558|\n",
      "| was| 5183|\n",
      "| his| 5056|\n",
      "|that| 4686|\n",
      "| her| 3908|\n",
      "| had| 3819|\n",
      "|with| 3704|\n",
      "| she| 3364|\n",
      "| not| 3254|\n",
      "|   I| 2866|\n",
      "|  at| 2733|\n",
      "| for| 2498|\n",
      "|  it| 2375|\n",
      "+----+-----+\n",
      "only showing top 20 rows\n",
      "\n"
     ]
    }
   ],
   "source": [
    "book.withColumn('word', f.explode(f.split(f.col('value'), ' ')))\\\n",
    "    .groupBy('word')\\\n",
    "    .count()\\\n",
    "    .sort('count', ascending=False)\\\n",
    "    .show()"
   ]
  },
  {
   "cell_type": "code",
   "execution_count": 72,
   "metadata": {},
   "outputs": [
    {
     "data": {
      "text/plain": [
       "DataFrame[cord_uid: string, sha: string, source_x: string, title: string, doi: string, pmcid: string, pubmed_id: string, license: string, abstract: string, publish_time: string, authors: string, journal: string, mag_id: string, who_covidence_id: string, arxiv_id: string, pdf_json_files: string, pmc_json_files: string, url: string, s2_id: string]"
      ]
     },
     "execution_count": 72,
     "metadata": {},
     "output_type": "execute_result"
    }
   ],
   "source": [
    "meta = spark.read.option('header','true').csv('c:/data/metadata.csv.gz')\n",
    "meta"
   ]
  },
  {
   "cell_type": "code",
   "execution_count": 73,
   "metadata": {},
   "outputs": [
    {
     "name": "stdout",
     "output_type": "stream",
     "text": [
      "+--------------------+\n",
      "|             journal|\n",
      "+--------------------+\n",
      "|      BMC Infect Dis|\n",
      "|          Respir Res|\n",
      "|          Respir Res|\n",
      "|          Respir Res|\n",
      "|          Respir Res|\n",
      "|    The EMBO Journal|\n",
      "|           Crit Care|\n",
      "|           Crit Care|\n",
      "|          Respir Res|\n",
      "|Journal of the Am...|\n",
      "|              EMBO J|\n",
      "|    The EMBO Journal|\n",
      "|  Biol Proced Online|\n",
      "|    The EMBO Journal|\n",
      "|        J Transl Med|\n",
      "|       Retrovirology|\n",
      "|           Crit Care|\n",
      "|   BMC Public Health|\n",
      "|          Respir Res|\n",
      "|        BMC Genomics|\n",
      "+--------------------+\n",
      "only showing top 20 rows\n",
      "\n"
     ]
    }
   ],
   "source": [
    "meta.select('journal').show()"
   ]
  },
  {
   "cell_type": "code",
   "execution_count": 74,
   "metadata": {},
   "outputs": [
    {
     "name": "stdout",
     "output_type": "stream",
     "text": [
      "+--------------------+-----+\n",
      "|             journal|count|\n",
      "+--------------------+-----+\n",
      "|                null|84330|\n",
      "|            PLoS One| 9707|\n",
      "|             bioRxiv| 8950|\n",
      "|Int J Environ Res...| 8199|\n",
      "|                 BMJ| 6769|\n",
      "|             Sci Rep| 5834|\n",
      "|              Cureus| 4108|\n",
      "|    Reactions Weekly| 3891|\n",
      "|       Front Psychol| 3514|\n",
      "|            BMJ Open| 3511|\n",
      "|       Front Immunol| 3387|\n",
      "|             Viruses| 3369|\n",
      "|              Nature| 3281|\n",
      "| Front Public Health| 3237|\n",
      "|              Lancet| 3201|\n",
      "|      Sustainability| 3126|\n",
      "|                JAMA| 2658|\n",
      "|         J Med Virol| 2444|\n",
      "|    Int J Infect Dis| 2319|\n",
      "|       Int J Mol Sci| 2303|\n",
      "+--------------------+-----+\n",
      "only showing top 20 rows\n",
      "\n"
     ]
    }
   ],
   "source": [
    "meta.select('journal').groupBy('journal').count().sort(f.desc('count')).show()"
   ]
  },
  {
   "cell_type": "code",
   "execution_count": null,
   "metadata": {},
   "outputs": [],
   "source": []
  }
 ],
 "metadata": {
  "kernelspec": {
   "display_name": "Python 3 (ipykernel)",
   "language": "python",
   "name": "python3"
  },
  "language_info": {
   "codemirror_mode": {
    "name": "ipython",
    "version": 3
   },
   "file_extension": ".py",
   "mimetype": "text/x-python",
   "name": "python",
   "nbconvert_exporter": "python",
   "pygments_lexer": "ipython3",
   "version": "3.9.0"
  }
 },
 "nbformat": 4,
 "nbformat_minor": 2
}
